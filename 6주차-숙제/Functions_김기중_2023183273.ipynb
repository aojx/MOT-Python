{
  "nbformat": 4,
  "nbformat_minor": 0,
  "metadata": {
    "kernelspec": {
      "display_name": "Python 3",
      "language": "python",
      "name": "python3"
    },
    "language_info": {
      "codemirror_mode": {
        "name": "ipython",
        "version": 3
      },
      "file_extension": ".py",
      "mimetype": "text/x-python",
      "name": "python",
      "nbconvert_exporter": "python",
      "pygments_lexer": "ipython3",
      "version": "3.6.8"
    },
    "colab": {
      "provenance": []
    }
  },
  "cells": [
    {
      "cell_type": "code",
      "source": [
        "# Functions_김기중_2023183273"
      ],
      "metadata": {
        "id": "7zPyWtECNpCQ"
      },
      "execution_count": null,
      "outputs": []
    },
    {
      "cell_type": "markdown",
      "metadata": {
        "id": "Zmu4VyiNOsOE"
      },
      "source": [
        "<h2>Quiz on Functions</h2>"
      ]
    },
    {
      "cell_type": "markdown",
      "metadata": {
        "id": "3WHDrF-AOsOF"
      },
      "source": [
        "Come up with a function that divides the first input by the second input:"
      ]
    },
    {
      "cell_type": "code",
      "metadata": {
        "id": "EhhJRbDgOsOF",
        "colab": {
          "base_uri": "https://localhost:8080/"
        },
        "outputId": "4124a65f-6761-49a5-8ec9-553438a07712"
      },
      "source": [
        "# Write your code below and press Shift+Enter to execute\n",
        "def divide(a, b):\n",
        "  return(a/b)\n",
        "\n",
        "divide(1,2)"
      ],
      "execution_count": 40,
      "outputs": [
        {
          "output_type": "execute_result",
          "data": {
            "text/plain": [
              "0.5"
            ]
          },
          "metadata": {},
          "execution_count": 40
        }
      ]
    },
    {
      "cell_type": "markdown",
      "metadata": {
        "id": "18NZ6IeUOsOH"
      },
      "source": [
        "Double-click __here__ for the solution.\n",
        "\n",
        "<!--\n",
        "def div(a, b):\n",
        "    return(a/b)\n",
        "-->"
      ]
    },
    {
      "cell_type": "markdown",
      "metadata": {
        "id": "POUcqmyqOsOI"
      },
      "source": [
        "<hr>"
      ]
    },
    {
      "cell_type": "markdown",
      "metadata": {
        "id": "bzZ_DiJFOsOI"
      },
      "source": [
        "Use the function <code>con</code> for the following question."
      ]
    },
    {
      "cell_type": "code",
      "metadata": {
        "id": "BqJ8lgVqOsOI"
      },
      "source": [
        "# Use the con function for the following question\n",
        "\n",
        "def con(a, b):\n",
        "    return(a + b)"
      ],
      "execution_count": 41,
      "outputs": []
    },
    {
      "cell_type": "markdown",
      "metadata": {
        "id": "HovbxItzOsOL"
      },
      "source": [
        "Can the <code>con</code> function we defined before be used to add to integers or strings?"
      ]
    },
    {
      "cell_type": "code",
      "metadata": {
        "id": "bbQ3MsrDOsOL",
        "colab": {
          "base_uri": "https://localhost:8080/"
        },
        "outputId": "7f8973e6-7896-4665-839a-6ecfda379bae"
      },
      "source": [
        "# Write your code below and press Shift+Enter to execute\n",
        "\n",
        "# yes, con function can be used to add to integers or strings.\n",
        "print(con(1,2))\n",
        "print(con(\"one \", \"two\"))"
      ],
      "execution_count": 44,
      "outputs": [
        {
          "output_type": "stream",
          "name": "stdout",
          "text": [
            "3\n",
            "one two\n"
          ]
        }
      ]
    },
    {
      "cell_type": "markdown",
      "metadata": {
        "id": "TDrpafr8OsOM"
      },
      "source": [
        "Double-click __here__ for the solution.\n",
        "\n",
        "<!--\n",
        "yes, for example:\n",
        "con(2, 2)\n",
        " -->"
      ]
    },
    {
      "cell_type": "markdown",
      "metadata": {
        "id": "-j-_N7O0OsON"
      },
      "source": [
        "<hr>"
      ]
    },
    {
      "cell_type": "markdown",
      "metadata": {
        "id": "UhudXzCHOsON"
      },
      "source": [
        "Can the <code>con</code> function we defined before be used to concentrate a list or tuple?"
      ]
    },
    {
      "cell_type": "code",
      "metadata": {
        "id": "dhmsJzmLOsOO",
        "colab": {
          "base_uri": "https://localhost:8080/"
        },
        "outputId": "dcf5b906-2670-479f-b81e-8d4de88ea351"
      },
      "source": [
        "# Write your code below and press Shift+Enter to execute\n",
        "\n",
        "# yes, con function be used to concatenate a list or tuple.\n",
        "print(con((1,'two',3),('four',5,6)))\n",
        "print(con([1,'two',3],['four',5,6]))"
      ],
      "execution_count": 46,
      "outputs": [
        {
          "output_type": "stream",
          "name": "stdout",
          "text": [
            "(1, 'two', 3, 'four', 5, 6)\n",
            "[1, 'two', 3, 'four', 5, 6]\n"
          ]
        }
      ]
    },
    {
      "cell_type": "markdown",
      "metadata": {
        "id": "C2TDpsc0OsOR"
      },
      "source": [
        "Double-click __here__ for the solution.\n",
        "\n",
        "<!--\n",
        "yes,for example:\n",
        "con(['a', 1], ['b', 1])\n",
        "-->"
      ]
    },
    {
      "cell_type": "markdown",
      "metadata": {
        "id": "FOTJq_d0OsOR"
      },
      "source": [
        "<hr>\n",
        "<h2>The last exercise!</h2>\n",
        "<p>Congratulations, you have completed your first lesson and hands-on lab in Python. However, there is one more thing you need to do. The Data Science community encourages sharing work. The best way to share and showcase your work is to share it on GitHub. By sharing your notebook on GitHub you are not only building your reputation with fellow data scientists, but you can also show it off when applying for a job. Even though this was your first piece of work, it is never too early to start building good habits. Please submit all your exercises to Github & let the traces in our LMS, so for me to access your work\n",
        "<hr>"
      ]
    },
    {
      "cell_type": "markdown",
      "metadata": {
        "id": "C54u3pyGOsOT"
      },
      "source": [
        "<hr>"
      ]
    },
    {
      "cell_type": "markdown",
      "metadata": {
        "id": "cWnKwYZpOsOV"
      },
      "source": [
        "<p>Copyright &copy; 2023 RYU HOKYOUNG based on 2018 IBM Developer Skills Network. This notebook and its source code are released under the terms of the <a href=\"https://cognitiveclass.ai/mit-license/\">MIT License</a>.</p>"
      ]
    }
  ]
}